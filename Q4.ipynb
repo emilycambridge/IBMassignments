{
 "cells": [
  {
   "cell_type": "markdown",
   "id": "452effe4-c7e6-412d-b010-911092e4a10c",
   "metadata": {},
   "source": [
    "## Question 4: Use Webscraping to Extract GME Revenue Data\n",
    "\n",
    "Display the last five rows of the gme_revenue dataframe using the tail function. Upload a screenshot of the results."
   ]
  },
  {
   "cell_type": "code",
   "execution_count": 3,
   "id": "b2dda9b0-accc-401b-88ee-a353dbea43c4",
   "metadata": {},
   "outputs": [],
   "source": [
    "import requests\n",
    "from bs4 import BeautifulSoup\n",
    "import pandas as pd"
   ]
  },
  {
   "cell_type": "code",
   "execution_count": 4,
   "id": "05284692-0756-4972-9230-2f17e783d181",
   "metadata": {},
   "outputs": [],
   "source": [
    "# Step 1: Send a GET request to the webpage\n",
    "url = \"https://cf-courses-data.s3.us.cloud-object-storage.appdomain.cloud/IBMDeveloperSkillsNetwork-PY0220EN-SkillsNetwork/labs/project/stock.html\"\n",
    "response = requests.get(url)"
   ]
  },
  {
   "cell_type": "code",
   "execution_count": 5,
   "id": "e5710d83-94ad-49e3-b4e3-7611b075fc85",
   "metadata": {},
   "outputs": [],
   "source": [
    "# Step 2: Parse the HTML content using BeautifulSoup\n",
    "soup = BeautifulSoup(response.content, 'html.parser')"
   ]
  },
  {
   "cell_type": "code",
   "execution_count": 6,
   "id": "098a5791-f107-4bea-8c1b-8d462629fd78",
   "metadata": {},
   "outputs": [],
   "source": [
    "# Step 3: Locate the GME revenue table\n",
    "table = soup.find('table')  "
   ]
  },
  {
   "cell_type": "code",
   "execution_count": 13,
   "id": "cdf97038-b135-41c6-b29c-f6cdd84d406d",
   "metadata": {},
   "outputs": [],
   "source": [
    "# Step 4: Extract the data from the table\n",
    "data = []\n",
    "rows = table.find_all('tr')\n",
    "for row in rows[1:]:  # Skip the header row\n",
    "    cols = row.find_all('td')\n",
    "    date = cols[0].text.strip()\n",
    "    revenue = cols[1].text.strip().replace('$', '').replace(',', '')\n",
    "    data.append({'Date': date, 'Revenue': revenue})"
   ]
  },
  {
   "cell_type": "code",
   "execution_count": 14,
   "id": "f1c3621a-53d6-458b-8ca9-4f568a7d029a",
   "metadata": {},
   "outputs": [],
   "source": [
    "# Step 5: Store the data in a Pandas DataFrame\n",
    "gme_revenue = pd.DataFrame(data)"
   ]
  },
  {
   "cell_type": "code",
   "execution_count": 15,
   "id": "be7064b1-0abd-4413-b69f-a24d9d9da004",
   "metadata": {},
   "outputs": [
    {
     "data": {
      "text/html": [
       "<div>\n",
       "<style scoped>\n",
       "    .dataframe tbody tr th:only-of-type {\n",
       "        vertical-align: middle;\n",
       "    }\n",
       "\n",
       "    .dataframe tbody tr th {\n",
       "        vertical-align: top;\n",
       "    }\n",
       "\n",
       "    .dataframe thead th {\n",
       "        text-align: right;\n",
       "    }\n",
       "</style>\n",
       "<table border=\"1\" class=\"dataframe\">\n",
       "  <thead>\n",
       "    <tr style=\"text-align: right;\">\n",
       "      <th></th>\n",
       "      <th>Date</th>\n",
       "      <th>Revenue</th>\n",
       "    </tr>\n",
       "  </thead>\n",
       "  <tbody>\n",
       "    <tr>\n",
       "      <th>11</th>\n",
       "      <td>2009</td>\n",
       "      <td>8806</td>\n",
       "    </tr>\n",
       "    <tr>\n",
       "      <th>12</th>\n",
       "      <td>2008</td>\n",
       "      <td>7094</td>\n",
       "    </tr>\n",
       "    <tr>\n",
       "      <th>13</th>\n",
       "      <td>2007</td>\n",
       "      <td>5319</td>\n",
       "    </tr>\n",
       "    <tr>\n",
       "      <th>14</th>\n",
       "      <td>2006</td>\n",
       "      <td>3092</td>\n",
       "    </tr>\n",
       "    <tr>\n",
       "      <th>15</th>\n",
       "      <td>2005</td>\n",
       "      <td>1843</td>\n",
       "    </tr>\n",
       "  </tbody>\n",
       "</table>\n",
       "</div>"
      ],
      "text/plain": [
       "    Date Revenue\n",
       "11  2009    8806\n",
       "12  2008    7094\n",
       "13  2007    5319\n",
       "14  2006    3092\n",
       "15  2005    1843"
      ]
     },
     "execution_count": 15,
     "metadata": {},
     "output_type": "execute_result"
    }
   ],
   "source": [
    "# Step 6 Print the last 5 rows of the DataFrame\n",
    "gme_revenue.tail()"
   ]
  },
  {
   "cell_type": "code",
   "execution_count": null,
   "id": "f1e085d1-ce22-473c-b923-ea1a504ad3d2",
   "metadata": {},
   "outputs": [],
   "source": []
  }
 ],
 "metadata": {
  "kernelspec": {
   "display_name": "Python 3 (ipykernel)",
   "language": "python",
   "name": "python3"
  },
  "language_info": {
   "codemirror_mode": {
    "name": "ipython",
    "version": 3
   },
   "file_extension": ".py",
   "mimetype": "text/x-python",
   "name": "python",
   "nbconvert_exporter": "python",
   "pygments_lexer": "ipython3",
   "version": "3.11.9"
  }
 },
 "nbformat": 4,
 "nbformat_minor": 5
}
