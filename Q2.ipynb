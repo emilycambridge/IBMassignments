{
 "cells": [
  {
   "cell_type": "markdown",
   "id": "3e93baef-60bc-479f-9f40-24d49199caa5",
   "metadata": {},
   "source": [
    "## Question 2: Use Webscraping to Extract Tesla Revenue Data\n",
    "\n",
    "Display the last five rows of the tesla_revenue dataframe using the tail function. Upload a screenshot of the results."
   ]
  },
  {
   "cell_type": "code",
   "execution_count": null,
   "id": "eb88c753-37f4-46d1-95cb-dcb8fabe50cd",
   "metadata": {},
   "outputs": [],
   "source": [
    "import requests\n",
    "from bs4 import BeautifulSoup\n",
    "import pandas as pd"
   ]
  },
  {
   "cell_type": "code",
   "execution_count": null,
   "id": "a664a3ba-989a-4796-8198-94f968cd2975",
   "metadata": {},
   "outputs": [],
   "source": [
    "# Step 1: Send a GET request to the webpage\n",
    "url = \"https://cf-courses-data.s3.us.cloud-object-storage.appdomain.cloud/IBMDeveloperSkillsNetwork-PY0220EN-SkillsNetwork/labs/project/revenue.htm\"\n",
    "response = requests.get(url)"
   ]
  },
  {
   "cell_type": "code",
   "execution_count": null,
   "id": "d04ecc07-7d93-4556-86ef-88484d2b1a4b",
   "metadata": {},
   "outputs": [],
   "source": [
    "# Step 2: Parse the HTML content using BeautifulSoup\n",
    "soup = BeautifulSoup(response.content, 'html.parser')"
   ]
  },
  {
   "cell_type": "code",
   "execution_count": null,
   "id": "30276b6a-32a6-4f55-a00e-53a244363226",
   "metadata": {},
   "outputs": [],
   "source": [
    "# Step 3: Locate the Tesla annual revenue table\n",
    "table = soup.find('table')  "
   ]
  },
  {
   "cell_type": "code",
   "execution_count": null,
   "id": "04bd249e-976f-4750-bf70-d12c88d6c8c1",
   "metadata": {},
   "outputs": [],
   "source": [
    "# Step 4: Extract the data from the table\n",
    "data = []\n",
    "rows = table.find_all('tr')\n",
    "\n",
    "for row in rows[1:]:  # Skip the header row\n",
    "    cols = row.find_all('td')\n",
    "    date = cols[0].text.strip()\n",
    "    revenue = cols[1].text.strip().replace('$', '').replace(',', '')\n",
    "    data.append({'Date': date, 'Revenue': revenue})"
   ]
  },
  {
   "cell_type": "code",
   "execution_count": null,
   "id": "7de0e0b3-0499-4a31-912e-9640016622e2",
   "metadata": {},
   "outputs": [],
   "source": [
    "# Step 5: Store the data in a Pandas DataFrame\n",
    "tesla_revenue = pd.DataFrame(data)"
   ]
  },
  {
   "cell_type": "code",
   "execution_count": null,
   "id": "2e1fab06-345c-444c-a5cc-a93a0dfb4311",
   "metadata": {},
   "outputs": [],
   "source": [
    "# Print the last 5 rows of the DataFrame\n",
    "print(tesla_revenue.tail())"
   ]
  },
  {
   "cell_type": "code",
   "execution_count": null,
   "id": "7f0d10cc-9e52-4308-98ef-1d1a921b9cf3",
   "metadata": {},
   "outputs": [],
   "source": []
  }
 ],
 "metadata": {
  "kernelspec": {
   "display_name": "Python 3 (ipykernel)",
   "language": "python",
   "name": "python3"
  },
  "language_info": {
   "codemirror_mode": {
    "name": "ipython",
    "version": 3
   },
   "file_extension": ".py",
   "mimetype": "text/x-python",
   "name": "python",
   "nbconvert_exporter": "python",
   "pygments_lexer": "ipython3",
   "version": "3.11.9"
  }
 },
 "nbformat": 4,
 "nbformat_minor": 5
}
